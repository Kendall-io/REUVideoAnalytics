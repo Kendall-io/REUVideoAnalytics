{
 "cells": [
  {
   "cell_type": "code",
   "execution_count": 1,
   "metadata": {
    "collapsed": true
   },
   "outputs": [],
   "source": [
    "import sys\n",
    "import os\n",
    "import time"
   ]
  },
  {
   "cell_type": "code",
   "execution_count": 1,
   "metadata": {
    "collapsed": true
   },
   "outputs": [],
   "source": [
    "###\n",
    "# Input the file names\n",
    "# @input startTime - Start video from a certain time-frame 00:00:00.000 (hours,minutes,seconds,milliseconds), user-determined\n",
    "# @input videoFileName - Input video file name\n",
    "# @input imageFileSaveArea - Folder where extracted images will be saved\n",
    "# @input frameFileName - CSV file that will contain timestamp data\n",
    "# @input contrastVal - contrast at which images will be changed to, determined empirically\n",
    "# @input brightnessVal - increase brightness of certain videos, determined empirically\n",
    "# @input cropImage - [x,y,z,w] | [x,y] is the image size, and [z,w] is the coordinate on the image where it will start creating\n",
    "# the size image\n",
    "###\n",
    "\n",
    "startTime = '00:00:34.000'\n",
    "videoFileName = ''\n",
    "videoFileExtension = '.MP4'\n",
    "videoToBeProcessed = videoFileName + videoFileExtension\n",
    "imageFileSaveArea = 'images' + videoFileName\n",
    "frameFileName = 'frames' + videoFileName + '.csv'\n",
    "contrastVal = '35'\n",
    "brightnessVal = '100'\n",
    "cropImage = '55:120:1272:460'\n",
    "rotateImage = '-10*PI/180'"
   ]
  },
  {
   "cell_type": "code",
   "execution_count": 2,
   "metadata": {},
   "outputs": [
    {
     "ename": "NameError",
     "evalue": "name 'time' is not defined",
     "output_type": "error",
     "traceback": [
      "\u001b[0;31m---------------------------------------------------------------------------\u001b[0m",
      "\u001b[0;31mNameError\u001b[0m                                 Traceback (most recent call last)",
      "\u001b[0;32m<ipython-input-2-6f875f9ae6d1>\u001b[0m in \u001b[0;36m<module>\u001b[0;34m()\u001b[0m\n\u001b[0;32m----> 1\u001b[0;31m \u001b[0mstart_time\u001b[0m \u001b[0;34m=\u001b[0m \u001b[0mtime\u001b[0m\u001b[0;34m.\u001b[0m\u001b[0mtime\u001b[0m\u001b[0;34m(\u001b[0m\u001b[0;34m)\u001b[0m\u001b[0;34m\u001b[0m\u001b[0m\n\u001b[0m\u001b[1;32m      2\u001b[0m \u001b[0;32mtry\u001b[0m\u001b[0;34m:\u001b[0m\u001b[0;34m\u001b[0m\u001b[0m\n\u001b[1;32m      3\u001b[0m     \u001b[0mos\u001b[0m\u001b[0;34m.\u001b[0m\u001b[0msystem\u001b[0m\u001b[0;34m(\u001b[0m\u001b[0;34m\"mkdir ../\"\u001b[0m \u001b[0;34m+\u001b[0m \u001b[0mimageFileSaveArea\u001b[0m\u001b[0;34m)\u001b[0m\u001b[0;34m\u001b[0m\u001b[0m\n\u001b[1;32m      4\u001b[0m     \u001b[0;31m#Standard for processing\u001b[0m\u001b[0;34m\u001b[0m\u001b[0;34m\u001b[0m\u001b[0m\n\u001b[1;32m      5\u001b[0m     \u001b[0mos\u001b[0m\u001b[0;34m.\u001b[0m\u001b[0msystem\u001b[0m\u001b[0;34m(\u001b[0m\u001b[0;34m\"ffmpeg -ss \"\u001b[0m \u001b[0;34m+\u001b[0m \u001b[0mstartTime\u001b[0m \u001b[0;34m+\u001b[0m \u001b[0;34m\" -i ../\"\u001b[0m \u001b[0;34m+\u001b[0m \u001b[0mvideoToBeProcessed\u001b[0m \u001b[0;34m+\u001b[0m \u001b[0;34m\" -an -vf rotate=\"\u001b[0m \u001b[0;34m+\u001b[0m \u001b[0mrotateImage\u001b[0m \u001b[0;34m+\u001b[0m \u001b[0;34m\",crop=\"\u001b[0m \u001b[0;34m+\u001b[0m \u001b[0mcropImage\u001b[0m \u001b[0;34m+\u001b[0m \u001b[0;34m\",eq=contrast=\"\u001b[0m \u001b[0;34m+\u001b[0m \u001b[0mcontrastVal\u001b[0m \u001b[0;34m+\u001b[0m \u001b[0;34m\" ../\"\u001b[0m \u001b[0;34m+\u001b[0m \u001b[0mimageFileSaveArea\u001b[0m \u001b[0;34m+\u001b[0m \u001b[0;34m\"/%06d.png\"\u001b[0m\u001b[0;34m)\u001b[0m\u001b[0;34m\u001b[0m\u001b[0m\n",
      "\u001b[0;31mNameError\u001b[0m: name 'time' is not defined"
     ]
    }
   ],
   "source": [
    "start_time = time.time()\n",
    "try:\n",
    "    os.system(\"mkdir ../\" + imageFileSaveArea)\n",
    "    #Standard for processing -t 00:00:10.000\n",
    "    #os.system(\"ffmpeg -ss \" + startTime + \" -i ../\" + videoToBeProcessed + \" -an -vf rotate=\" + rotateImage + \",crop=\" + cropImage + \",eq=contrast=\" + contrastVal + \" ../\" + imageFileSaveArea + \"/%06d.png\")\n",
    "    #os.system(\"ffmpeg -ss \" + startTime + \" -i ../\" + videoToBeProcessed + \" -t 00:00:10.000 -an -vf rotate=\" + rotateImage + \",crop=\" + cropImage + \",eq=contrast=\" + contrastVal + \" ../\" + imageFileSaveArea + \"/%06d.png\")\n",
    "\n",
    "    # Use this if video is too dark when processing\n",
    "    #os.system(\"ffmpeg -ss \" + startTime + \" -i ../\" + videoToBeProcessed + \" -an -vf rotate=\" + rotateImage + \",crop=\" + cropImage + \",eq=contrast=\" + contrastVal + \":brightness=\" + brightnessVal + \" ../\" + imageFileSaveArea + \"/%06d.png\")\n",
    "    #os.system(\"ffmpeg -ss \" + startTime + \" -i ../\" + videoToBeProcessed + \" -t 00:00:10.000 -an -vf rotate=\" + rotateImage + \",crop=\" + cropImage + \",eq=contrast=\" + contrastVal + \":brightness=\" + brightnessVal + \" ../\" + imageFileSaveArea + \"/%06d.png\")\n",
    "\n",
    "    # Takes the timestamps of the video and exports to a csv file\n",
    "    os.system(\"ffprobe -f lavfi -i movie=../\" + videoToBeProcessed + \" -show_frames -show_entries frame=pkt_pts_time -of csv=p=0 > ../\" + frameFileName)\n",
    "    print 'Successful'\n",
    "except:\n",
    "    print 'ERROR'\n",
    "\n",
    "print \"My program took\", time.time() - start_time, \"to run\""
   ]
  },
  {
   "cell_type": "code",
   "execution_count": null,
   "metadata": {
    "collapsed": true
   },
   "outputs": [],
   "source": []
  }
 ],
 "metadata": {
  "kernelspec": {
   "display_name": "Python 2",
   "language": "python",
   "name": "python2"
  },
  "language_info": {
   "codemirror_mode": {
    "name": "ipython",
    "version": 2
   },
   "file_extension": ".py",
   "mimetype": "text/x-python",
   "name": "python",
   "nbconvert_exporter": "python",
   "pygments_lexer": "ipython2",
   "version": "2.7.13"
  }
 },
 "nbformat": 4,
 "nbformat_minor": 2
}

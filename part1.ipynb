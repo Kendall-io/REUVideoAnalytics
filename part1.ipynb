{
 "cells": [
  {
   "cell_type": "code",
   "execution_count": null,
   "metadata": {
    "collapsed": true
   },
   "outputs": [],
   "source": [
    "import sys\n",
    "import os\n",
    "import time"
   ]
  },
  {
   "cell_type": "code",
   "execution_count": null,
   "metadata": {
    "collapsed": true
   },
   "outputs": [],
   "source": [
    "###\n",
    "# Input the file names\n",
    "# @input startTime - Start video from a certain time-frame 00:00:00.000 (hours,minutes,seconds,milliseconds), user-determined\n",
    "# @input videoFileName - Input video file name\n",
    "# @input imageFileSaveArea - Folder where extracted images will be saved\n",
    "# @input frameFileName - CSV file that will contain timestamp data\n",
    "# @input contrastVal - contrast at which images will be changed to, determined empirically\n",
    "# @input brightnessVal - increase brightness of certain videos, determined empirically\n",
    "# @input cropImage - [x,y,z,w] | [x,y] is the image size, and [z,w] is the coordinate on the image where it will start creating\n",
    "# the size image\n",
    "###\n",
    "\n",
    "startTime = '00:00:35.000'\n",
    "videoFileName = ''\n",
    "videoFileExtension = '.MP4'\n",
    "videoToBeProcessed = videoFileName + videoFileExtension\n",
    "imageFileSaveArea = 'images' + videoFileName\n",
    "frameFileName = 'frames' + videoFileName + '.csv'\n",
    "contrastVal = '12'\n",
    "brightnessVal = '100'\n",
    "cropImage = '55:120:1245:445'\n",
    "rotateImage = '-10*PI/180'"
   ]
  },
  {
   "cell_type": "code",
   "execution_count": null,
   "metadata": {},
   "outputs": [],
   "source": [
    "start_time = time.time()\n",
    "try:\n",
    "    os.system(\"mkdir ../\" + imageFileSaveArea)\n",
    "    #Standard for processing (Option 1: Process video enitrely, Option 2: Process only 10 secs of video - used for debugging)\n",
    "    #os.system(\"ffmpeg -ss \" + startTime + \" -i ../\" + videoToBeProcessed + \" -an -vf rotate=\" + rotateImage + \",crop=\" + cropImage + \",eq=contrast=\" + contrastVal + \" ../\" + imageFileSaveArea + \"/%06d.png\")\n",
    "    #os.system(\"ffmpeg -ss \" + startTime + \" -i ../\" + videoToBeProcessed + \" -t 00:00:10.000 -an -vf rotate=\" + rotateImage + \",crop=\" + cropImage + \",eq=contrast=\" + contrastVal + \" ../\" + imageFileSaveArea + \"/%06d.png\")\n",
    "\n",
    "    # Use this if video is too dark when processing (Option 1: Process video enitrely, Option 2: Process only 10 secs of video - used for debugging))\n",
    "    #os.system(\"ffmpeg -ss \" + startTime + \" -i ../\" + videoToBeProcessed + \" -an -vf rotate=\" + rotateImage + \",crop=\" + cropImage + \",eq=contrast=\" + contrastVal + \":brightness=\" + brightnessVal + \" ../\" + imageFileSaveArea + \"/%06d.png\")\n",
    "    #os.system(\"ffmpeg -ss \" + startTime + \" -i ../\" + videoToBeProcessed + \" -t 00:00:10.000 -an -vf rotate=\" + rotateImage + \",crop=\" + cropImage + \",eq=contrast=\" + contrastVal + \":brightness=\" + brightnessVal + \" ../\" + imageFileSaveArea + \"/%06d.png\")\n",
    "\n",
    "    # Takes the timestamps of the video and exports to a csv file\n",
    "    #os.system(\"ffprobe -f lavfi -i movie=../\" + videoToBeProcessed + \" -show_frames -show_entries frame=pkt_pts_time -of csv=p=0 > ../\" + frameFileName)\n",
    "    print 'Successful'\n",
    "except:\n",
    "    print 'ERROR'\n",
    "\n",
    "print \"My program took\", time.time() - start_time, \"to run\""
   ]
  },
  {
   "cell_type": "code",
   "execution_count": null,
   "metadata": {
    "collapsed": true
   },
   "outputs": [],
   "source": []
  }
 ],
 "metadata": {
  "kernelspec": {
   "display_name": "Python 2",
   "language": "python",
   "name": "python2"
  },
  "language_info": {
   "codemirror_mode": {
    "name": "ipython",
    "version": 2
   },
   "file_extension": ".py",
   "mimetype": "text/x-python",
   "name": "python",
   "nbconvert_exporter": "python",
   "pygments_lexer": "ipython2",
   "version": "2.7.13"
  }
 },
 "nbformat": 4,
 "nbformat_minor": 2
}
